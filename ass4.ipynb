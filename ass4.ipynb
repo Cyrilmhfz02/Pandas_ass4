{
 "cells": [
  {
   "cell_type": "code",
   "execution_count": 8,
   "metadata": {},
   "outputs": [
    {
     "name": "stdout",
     "output_type": "stream",
     "text": [
      "<class 'pandas.core.frame.DataFrame'>\n",
      "RangeIndex: 21613 entries, 0 to 21612\n",
      "Data columns (total 21 columns):\n",
      " #   Column         Non-Null Count  Dtype  \n",
      "---  ------         --------------  -----  \n",
      " 0   id             21613 non-null  int64  \n",
      " 1   date           21613 non-null  object \n",
      " 2   price          21613 non-null  float64\n",
      " 3   bedrooms       21613 non-null  int64  \n",
      " 4   bathrooms      21613 non-null  float64\n",
      " 5   sqft_living    21613 non-null  int64  \n",
      " 6   sqft_lot       21613 non-null  int64  \n",
      " 7   floors         21613 non-null  float64\n",
      " 8   waterfront     21613 non-null  int64  \n",
      " 9   view           21613 non-null  int64  \n",
      " 10  condition      21613 non-null  int64  \n",
      " 11  grade          21613 non-null  int64  \n",
      " 12  sqft_above     21613 non-null  int64  \n",
      " 13  sqft_basement  21613 non-null  int64  \n",
      " 14  yr_built       21613 non-null  int64  \n",
      " 15  yr_renovated   21613 non-null  int64  \n",
      " 16  zipcode        21613 non-null  int64  \n",
      " 17  lat            21613 non-null  float64\n",
      " 18  long           21613 non-null  float64\n",
      " 19  sqft_living15  21613 non-null  int64  \n",
      " 20  sqft_lot15     21613 non-null  int64  \n",
      "dtypes: float64(5), int64(15), object(1)\n",
      "memory usage: 3.5+ MB\n"
     ]
    }
   ],
   "source": [
    "import pandas as pd\n",
    "\n",
    "df=pd.read_csv(\"/Users/cyrilmahfouz/Desktop/SEF/Week2/kc_house_data.csv\")\n",
    "df.head(5)\n",
    "df.info()"
   ]
  },
  {
   "cell_type": "code",
   "execution_count": 7,
   "metadata": {},
   "outputs": [
    {
     "name": "stdout",
     "output_type": "stream",
     "text": [
      "avrg lat of houses:  47.56005251931708\n",
      "avrg long of houses:  -122.21389640494147\n",
      "21613\n",
      "the avrg area of the houses:  17186.867302086706\n",
      "the avrg building year of the houses:  1971.0051357978994\n"
     ]
    }
   ],
   "source": [
    "lat=df.lat.mean()\n",
    "long=df.long.mean()\n",
    "\n",
    "print(\"avrg lat of houses: \",lat)\n",
    "print(\"avrg long of houses: \",long)\n",
    "\n",
    "print(len(df))\n",
    "\n",
    "avrg_area=df.sqft_lot.mean()+df.sqft_living.mean()\n",
    "print(\"the avrg area of the houses: \",avrg_area)\n",
    "\n",
    "print(\"the avrg building year of the houses: \",df.yr_built.mean())\n",
    "\n"
   ]
  },
  {
   "cell_type": "markdown",
   "metadata": {},
   "source": [
    "To start,we are looking at a dataframe representing house sales in King County, USA from Kaggle. To start this dataframe contains information about 21613 houses.We can see that these house revolves around a latitude of 47.56 and a longitude of -122.21.Also by calculating the averge of the sqft living and the sqft lot we can see that the average area of these houses is 17186.86 meter squarred and the average houses are built in the year 1971"
   ]
  }
 ],
 "metadata": {
  "kernelspec": {
   "display_name": "sefactory_env",
   "language": "python",
   "name": "python3"
  },
  "language_info": {
   "codemirror_mode": {
    "name": "ipython",
    "version": 3
   },
   "file_extension": ".py",
   "mimetype": "text/x-python",
   "name": "python",
   "nbconvert_exporter": "python",
   "pygments_lexer": "ipython3",
   "version": "3.10.9"
  },
  "orig_nbformat": 4
 },
 "nbformat": 4,
 "nbformat_minor": 2
}
