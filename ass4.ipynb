{
 "cells": [
  {
   "cell_type": "code",
   "execution_count": 69,
   "metadata": {},
   "outputs": [
    {
     "data": {
      "text/html": [
       "<div>\n",
       "<style scoped>\n",
       "    .dataframe tbody tr th:only-of-type {\n",
       "        vertical-align: middle;\n",
       "    }\n",
       "\n",
       "    .dataframe tbody tr th {\n",
       "        vertical-align: top;\n",
       "    }\n",
       "\n",
       "    .dataframe thead th {\n",
       "        text-align: right;\n",
       "    }\n",
       "</style>\n",
       "<table border=\"1\" class=\"dataframe\">\n",
       "  <thead>\n",
       "    <tr style=\"text-align: right;\">\n",
       "      <th></th>\n",
       "      <th>id</th>\n",
       "      <th>price</th>\n",
       "      <th>bedrooms</th>\n",
       "      <th>bathrooms</th>\n",
       "      <th>sqft_living</th>\n",
       "      <th>sqft_lot</th>\n",
       "      <th>floors</th>\n",
       "      <th>waterfront</th>\n",
       "      <th>view</th>\n",
       "      <th>condition</th>\n",
       "      <th>grade</th>\n",
       "      <th>sqft_above</th>\n",
       "      <th>sqft_basement</th>\n",
       "      <th>yr_built</th>\n",
       "      <th>yr_renovated</th>\n",
       "      <th>zipcode</th>\n",
       "      <th>lat</th>\n",
       "      <th>long</th>\n",
       "      <th>sqft_living15</th>\n",
       "      <th>sqft_lot15</th>\n",
       "    </tr>\n",
       "  </thead>\n",
       "  <tbody>\n",
       "    <tr>\n",
       "      <th>count</th>\n",
       "      <td>2.161300e+04</td>\n",
       "      <td>21613.0</td>\n",
       "      <td>21613.0</td>\n",
       "      <td>21613.0</td>\n",
       "      <td>21613.0</td>\n",
       "      <td>21613.0</td>\n",
       "      <td>21613.0</td>\n",
       "      <td>21613.0</td>\n",
       "      <td>21613.0</td>\n",
       "      <td>21613.0</td>\n",
       "      <td>21613.0</td>\n",
       "      <td>21613.0</td>\n",
       "      <td>21613.0</td>\n",
       "      <td>21613.0</td>\n",
       "      <td>21613.0</td>\n",
       "      <td>21613.0</td>\n",
       "      <td>21613.0</td>\n",
       "      <td>21613.0</td>\n",
       "      <td>21613.0</td>\n",
       "      <td>21613.0</td>\n",
       "    </tr>\n",
       "    <tr>\n",
       "      <th>mean</th>\n",
       "      <td>4.580302e+09</td>\n",
       "      <td>540182.0</td>\n",
       "      <td>3.0</td>\n",
       "      <td>2.0</td>\n",
       "      <td>2080.0</td>\n",
       "      <td>15107.0</td>\n",
       "      <td>1.0</td>\n",
       "      <td>0.0</td>\n",
       "      <td>0.0</td>\n",
       "      <td>3.0</td>\n",
       "      <td>8.0</td>\n",
       "      <td>1788.0</td>\n",
       "      <td>292.0</td>\n",
       "      <td>1971.0</td>\n",
       "      <td>84.0</td>\n",
       "      <td>98078.0</td>\n",
       "      <td>48.0</td>\n",
       "      <td>-122.0</td>\n",
       "      <td>1987.0</td>\n",
       "      <td>12768.0</td>\n",
       "    </tr>\n",
       "    <tr>\n",
       "      <th>std</th>\n",
       "      <td>2.876566e+09</td>\n",
       "      <td>367362.0</td>\n",
       "      <td>1.0</td>\n",
       "      <td>1.0</td>\n",
       "      <td>918.0</td>\n",
       "      <td>41421.0</td>\n",
       "      <td>1.0</td>\n",
       "      <td>0.0</td>\n",
       "      <td>1.0</td>\n",
       "      <td>1.0</td>\n",
       "      <td>1.0</td>\n",
       "      <td>828.0</td>\n",
       "      <td>443.0</td>\n",
       "      <td>29.0</td>\n",
       "      <td>402.0</td>\n",
       "      <td>54.0</td>\n",
       "      <td>0.0</td>\n",
       "      <td>0.0</td>\n",
       "      <td>685.0</td>\n",
       "      <td>27304.0</td>\n",
       "    </tr>\n",
       "    <tr>\n",
       "      <th>min</th>\n",
       "      <td>1.000102e+06</td>\n",
       "      <td>75000.0</td>\n",
       "      <td>0.0</td>\n",
       "      <td>0.0</td>\n",
       "      <td>290.0</td>\n",
       "      <td>520.0</td>\n",
       "      <td>1.0</td>\n",
       "      <td>0.0</td>\n",
       "      <td>0.0</td>\n",
       "      <td>1.0</td>\n",
       "      <td>1.0</td>\n",
       "      <td>290.0</td>\n",
       "      <td>0.0</td>\n",
       "      <td>1900.0</td>\n",
       "      <td>0.0</td>\n",
       "      <td>98001.0</td>\n",
       "      <td>47.0</td>\n",
       "      <td>-123.0</td>\n",
       "      <td>399.0</td>\n",
       "      <td>651.0</td>\n",
       "    </tr>\n",
       "    <tr>\n",
       "      <th>25%</th>\n",
       "      <td>2.123049e+09</td>\n",
       "      <td>321950.0</td>\n",
       "      <td>3.0</td>\n",
       "      <td>2.0</td>\n",
       "      <td>1427.0</td>\n",
       "      <td>5040.0</td>\n",
       "      <td>1.0</td>\n",
       "      <td>0.0</td>\n",
       "      <td>0.0</td>\n",
       "      <td>3.0</td>\n",
       "      <td>7.0</td>\n",
       "      <td>1190.0</td>\n",
       "      <td>0.0</td>\n",
       "      <td>1951.0</td>\n",
       "      <td>0.0</td>\n",
       "      <td>98033.0</td>\n",
       "      <td>47.0</td>\n",
       "      <td>-122.0</td>\n",
       "      <td>1490.0</td>\n",
       "      <td>5100.0</td>\n",
       "    </tr>\n",
       "    <tr>\n",
       "      <th>50%</th>\n",
       "      <td>3.904930e+09</td>\n",
       "      <td>450000.0</td>\n",
       "      <td>3.0</td>\n",
       "      <td>2.0</td>\n",
       "      <td>1910.0</td>\n",
       "      <td>7618.0</td>\n",
       "      <td>2.0</td>\n",
       "      <td>0.0</td>\n",
       "      <td>0.0</td>\n",
       "      <td>3.0</td>\n",
       "      <td>7.0</td>\n",
       "      <td>1560.0</td>\n",
       "      <td>0.0</td>\n",
       "      <td>1975.0</td>\n",
       "      <td>0.0</td>\n",
       "      <td>98065.0</td>\n",
       "      <td>48.0</td>\n",
       "      <td>-122.0</td>\n",
       "      <td>1840.0</td>\n",
       "      <td>7620.0</td>\n",
       "    </tr>\n",
       "    <tr>\n",
       "      <th>75%</th>\n",
       "      <td>7.308900e+09</td>\n",
       "      <td>645000.0</td>\n",
       "      <td>4.0</td>\n",
       "      <td>2.0</td>\n",
       "      <td>2550.0</td>\n",
       "      <td>10688.0</td>\n",
       "      <td>2.0</td>\n",
       "      <td>0.0</td>\n",
       "      <td>0.0</td>\n",
       "      <td>4.0</td>\n",
       "      <td>8.0</td>\n",
       "      <td>2210.0</td>\n",
       "      <td>560.0</td>\n",
       "      <td>1997.0</td>\n",
       "      <td>0.0</td>\n",
       "      <td>98118.0</td>\n",
       "      <td>48.0</td>\n",
       "      <td>-122.0</td>\n",
       "      <td>2360.0</td>\n",
       "      <td>10083.0</td>\n",
       "    </tr>\n",
       "    <tr>\n",
       "      <th>max</th>\n",
       "      <td>9.900000e+09</td>\n",
       "      <td>7700000.0</td>\n",
       "      <td>33.0</td>\n",
       "      <td>8.0</td>\n",
       "      <td>13540.0</td>\n",
       "      <td>1651359.0</td>\n",
       "      <td>4.0</td>\n",
       "      <td>1.0</td>\n",
       "      <td>4.0</td>\n",
       "      <td>5.0</td>\n",
       "      <td>13.0</td>\n",
       "      <td>9410.0</td>\n",
       "      <td>4820.0</td>\n",
       "      <td>2015.0</td>\n",
       "      <td>2015.0</td>\n",
       "      <td>98199.0</td>\n",
       "      <td>48.0</td>\n",
       "      <td>-121.0</td>\n",
       "      <td>6210.0</td>\n",
       "      <td>871200.0</td>\n",
       "    </tr>\n",
       "  </tbody>\n",
       "</table>\n",
       "</div>"
      ],
      "text/plain": [
       "                 id      price  bedrooms  bathrooms  sqft_living   sqft_lot  \\\n",
       "count  2.161300e+04    21613.0   21613.0    21613.0      21613.0    21613.0   \n",
       "mean   4.580302e+09   540182.0       3.0        2.0       2080.0    15107.0   \n",
       "std    2.876566e+09   367362.0       1.0        1.0        918.0    41421.0   \n",
       "min    1.000102e+06    75000.0       0.0        0.0        290.0      520.0   \n",
       "25%    2.123049e+09   321950.0       3.0        2.0       1427.0     5040.0   \n",
       "50%    3.904930e+09   450000.0       3.0        2.0       1910.0     7618.0   \n",
       "75%    7.308900e+09   645000.0       4.0        2.0       2550.0    10688.0   \n",
       "max    9.900000e+09  7700000.0      33.0        8.0      13540.0  1651359.0   \n",
       "\n",
       "        floors  waterfront     view  condition    grade  sqft_above  \\\n",
       "count  21613.0     21613.0  21613.0    21613.0  21613.0     21613.0   \n",
       "mean       1.0         0.0      0.0        3.0      8.0      1788.0   \n",
       "std        1.0         0.0      1.0        1.0      1.0       828.0   \n",
       "min        1.0         0.0      0.0        1.0      1.0       290.0   \n",
       "25%        1.0         0.0      0.0        3.0      7.0      1190.0   \n",
       "50%        2.0         0.0      0.0        3.0      7.0      1560.0   \n",
       "75%        2.0         0.0      0.0        4.0      8.0      2210.0   \n",
       "max        4.0         1.0      4.0        5.0     13.0      9410.0   \n",
       "\n",
       "       sqft_basement  yr_built  yr_renovated  zipcode      lat     long  \\\n",
       "count        21613.0   21613.0       21613.0  21613.0  21613.0  21613.0   \n",
       "mean           292.0    1971.0          84.0  98078.0     48.0   -122.0   \n",
       "std            443.0      29.0         402.0     54.0      0.0      0.0   \n",
       "min              0.0    1900.0           0.0  98001.0     47.0   -123.0   \n",
       "25%              0.0    1951.0           0.0  98033.0     47.0   -122.0   \n",
       "50%              0.0    1975.0           0.0  98065.0     48.0   -122.0   \n",
       "75%            560.0    1997.0           0.0  98118.0     48.0   -122.0   \n",
       "max           4820.0    2015.0        2015.0  98199.0     48.0   -121.0   \n",
       "\n",
       "       sqft_living15  sqft_lot15  \n",
       "count        21613.0     21613.0  \n",
       "mean          1987.0     12768.0  \n",
       "std            685.0     27304.0  \n",
       "min            399.0       651.0  \n",
       "25%           1490.0      5100.0  \n",
       "50%           1840.0      7620.0  \n",
       "75%           2360.0     10083.0  \n",
       "max           6210.0    871200.0  "
      ]
     },
     "execution_count": 69,
     "metadata": {},
     "output_type": "execute_result"
    }
   ],
   "source": [
    "import pandas as pd\n",
    "\n",
    "df=pd.read_csv(\"/Users/cyrilmahfouz/Desktop/SEF/Week2/kc_house_data.csv\")\n",
    "df.describe().round()"
   ]
  },
  {
   "cell_type": "code",
   "execution_count": 7,
   "metadata": {},
   "outputs": [
    {
     "name": "stdout",
     "output_type": "stream",
     "text": [
      "avrg lat of houses:  47.56005251931708\n",
      "avrg long of houses:  -122.21389640494147\n",
      "21613\n",
      "the avrg area of the houses:  17186.867302086706\n",
      "the avrg building year of the houses:  1971.0051357978994\n"
     ]
    }
   ],
   "source": [
    "lat=df.lat.mean()\n",
    "long=df.long.mean()\n",
    "\n",
    "print(\"avrg lat of houses: \",lat)\n",
    "print(\"avrg long of houses: \",long)\n",
    "\n",
    "print(len(df))\n",
    "\n",
    "avrg_area=df.sqft_lot.mean()+df.sqft_living.mean()\n",
    "print(\"the avrg area of the houses: \",avrg_area)\n",
    "\n",
    "print(\"the avrg building year of the houses: \",df.yr_built.mean())\n",
    "\n"
   ]
  },
  {
   "cell_type": "markdown",
   "metadata": {},
   "source": [
    "To start,we are looking at a dataframe representing house sales in King County, USA from Kaggle. To start this dataframe contains information about 21613 houses.We can see that these house revolves around a latitude of 47.56 and a longitude of -122.21.Also by calculating the averge of the sqft living and the sqft lot we can see that the average area of these houses is 17186.86 meter squarred and the average houses are built in the year 1971"
   ]
  },
  {
   "cell_type": "code",
   "execution_count": 35,
   "metadata": {},
   "outputs": [
    {
     "name": "stdout",
     "output_type": "stream",
     "text": [
      "              yr_built          price\n",
      "yr_renovated                         \n",
      "0                20699  530447.958597\n",
      "1                  914  760628.777899\n",
      "the percentage of houses reovated is:  4.23%\n"
     ]
    }
   ],
   "source": [
    "built_renovated=df[['yr_built','yr_renovated','price']]\n",
    "built_renovated.loc[built_renovated['yr_renovated']>0 ,'yr_renovated' ]=1\n",
    "\n",
    "built_ren=built_renovated[['yr_built','yr_renovated','price']].groupby('yr_renovated').agg({'yr_built': 'count', 'price': 'mean'})\n",
    "\n",
    "perc=(built_ren.iloc[1,0]/len(df))*100\n",
    "print(built_ren)\n",
    "print(f\"the percentage of houses reovated is: {perc: .2f}%\")"
   ]
  },
  {
   "cell_type": "markdown",
   "metadata": {},
   "source": [
    "Now, we notice that even if the average houses are built in the year 1977 only 914 of the houses are renovated which is equal to only 4.23% of all the houses. And we can notice that the prices of the houses renovated are more expencive that the old houses.<br>\n",
    "<br>\n",
    "Lets check now the variable that coukd possibly impact the price of the houses"
   ]
  },
  {
   "cell_type": "code",
   "execution_count": 50,
   "metadata": {},
   "outputs": [
    {
     "name": "stdout",
     "output_type": "stream",
     "text": [
      "the prices according to the waterfonts\n",
      "                price\n",
      "waterfront           \n",
      "0            531653.0\n",
      "1           1662524.0\n"
     ]
    }
   ],
   "source": [
    "price_waterfront=df[['price','waterfront']].groupby('waterfront').mean().round()\n",
    "print(\"the prices according to the waterfonts\")\n",
    "print(price_waterfront)\n",
    "\n",
    "\n"
   ]
  },
  {
   "cell_type": "markdown",
   "metadata": {},
   "source": [
    "Let's start with the houses that has waterfonts.<br>\n",
    "We can remark that by grouping the houses that have waterfronts,that the values of the buildings that contains this feature are more expensive than the houses that aren't equipped with one.<br>\n",
    "We did this by grouping the houses into 2 categories. The first one, the group that doesn't contain a waterfall and the second group contains a waterfall.Then we preceeded by getting the average price of these 2 groups and that's how we came up with this conclusion"
   ]
  },
  {
   "cell_type": "code",
   "execution_count": 52,
   "metadata": {},
   "outputs": [
    {
     "name": "stdout",
     "output_type": "stream",
     "text": [
      "          price  grade\n",
      "7252  7700000.0     13\n",
      "3914  7060000.0     11\n",
      "9254  6890000.0     13\n",
      "4411  5570000.0     13\n",
      "1448  5350000.0     12\n",
      "1315  5300000.0     12\n",
      "1164  5110000.0     12\n",
      "8092  4670000.0     12\n",
      "2626  4500000.0     12\n",
      "8638  4490000.0     12\n",
      " \n",
      "         price  grade\n",
      "1149   75000.0      3\n",
      "15293  78000.0      5\n",
      "465    80000.0      4\n",
      "16198  81000.0      5\n",
      "8274   82000.0      6\n",
      "2141   82500.0      5\n",
      "18468  83000.0      5\n",
      "3767   84000.0      6\n",
      "16714  85000.0      5\n",
      "10253  85000.0      6\n"
     ]
    }
   ],
   "source": [
    "price_conditions=df[['price','grade']]\n",
    "sorted_price_up=price_conditions.sort_values(by='price',ascending=False)\n",
    "print(sorted_price_up.head(10))\n",
    "\n",
    "print(\" \")\n",
    "sorted_price_down=price_conditions.sort_values(by='price',ascending=True)\n",
    "print(sorted_price_down.head(10))\n"
   ]
  },
  {
   "cell_type": "markdown",
   "metadata": {},
   "source": [
    "Now let's tackle the correlation between the price and the grade that the house is gived.<br>\n",
    "In the first table, we can clearly see that the most expensive houses are attributed to the high graded houses.Similarly the least expensive houses have the lower grades amoung the buildings. <br>\n",
    "Now how can someone give a grade?What are the conditions to a higher grade?"
   ]
  },
  {
   "cell_type": "code",
   "execution_count": 59,
   "metadata": {},
   "outputs": [
    {
     "name": "stdout",
     "output_type": "stream",
     "text": [
      "       sqft_living  sqft_lot  avrg_area\n",
      "grade                                  \n",
      "12          5472.0   54521.0    59993.0\n",
      "11          4395.0   38373.0    42768.0\n",
      "13          7483.0   28205.0    35688.0\n",
      "10          3520.0   28191.0    31711.0\n"
     ]
    }
   ],
   "source": [
    "grade_area=df[['grade','sqft_living','sqft_lot']].groupby('grade').mean().round()\n",
    "grade_area['avrg_area']=(grade_area['sqft_living']+grade_area['sqft_lot'])\n",
    "\n",
    "print(grade_area.sort_values(by='avrg_area',ascending=False).head(4))"
   ]
  },
  {
   "cell_type": "markdown",
   "metadata": {},
   "source": [
    "The average area of these houses are the largest houses on this dataframe.So one factor of the that give a house a high grade is the area of the house."
   ]
  },
  {
   "cell_type": "code",
   "execution_count": 65,
   "metadata": {},
   "outputs": [
    {
     "name": "stdout",
     "output_type": "stream",
     "text": [
      "        sqft_living  sqft_lot  avrg_area\n",
      "floors                                  \n",
      "1.0          1732.0   14568.0    16300.0\n",
      "1.5          1908.0   16966.0    18874.0\n",
      "2.0          2571.0   16134.0    18705.0\n",
      "2.5          3145.0   17347.0    20492.0\n"
     ]
    }
   ],
   "source": [
    "area_floors=df[['floors','sqft_living','sqft_lot']].groupby('floors').mean().round().head(4)\n",
    "area_floors['avrg_area']=(area_floors['sqft_living']+area_floors['sqft_lot'])\n",
    "print(area_floors)"
   ]
  },
  {
   "cell_type": "markdown",
   "metadata": {},
   "source": [
    "We can see that the average area is increasing with the number of floors.The more floors a house has the bigger the area get"
   ]
  },
  {
   "cell_type": "code",
   "execution_count": 71,
   "metadata": {},
   "outputs": [
    {
     "name": "stdout",
     "output_type": "stream",
     "text": [
      "          price      lat     long\n",
      "7252  7700000.0  47.6298 -122.323\n",
      "3914  7060000.0  47.6500 -122.214\n",
      "9254  6890000.0  47.6305 -122.240\n",
      "4411  5570000.0  47.6289 -122.233\n",
      "1448  5350000.0  47.6232 -122.220\n"
     ]
    }
   ],
   "source": [
    "#where are located the most expensive houses\n",
    "max_price_loc=df[['price','lat','long']]\n",
    "sorted_price_up=max_price_loc.sort_values(by='price',ascending=False)\n",
    "print(sorted_price_up.head(5))\n"
   ]
  },
  {
   "cell_type": "markdown",
   "metadata": {},
   "source": [
    "We can extract from this information that the most expensive houses are located around the same area.So we can conclude that this location is more fruitfull than others so maybe it could be a good place to invest in the future"
   ]
  },
  {
   "cell_type": "markdown",
   "metadata": {},
   "source": [
    "<h3>BONUS</h3>"
   ]
  }
 ],
 "metadata": {
  "kernelspec": {
   "display_name": "sefactory_env",
   "language": "python",
   "name": "python3"
  },
  "language_info": {
   "codemirror_mode": {
    "name": "ipython",
    "version": 3
   },
   "file_extension": ".py",
   "mimetype": "text/x-python",
   "name": "python",
   "nbconvert_exporter": "python",
   "pygments_lexer": "ipython3",
   "version": "3.10.9"
  },
  "orig_nbformat": 4
 },
 "nbformat": 4,
 "nbformat_minor": 2
}
